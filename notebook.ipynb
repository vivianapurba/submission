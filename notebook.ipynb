{
  "cells": [
    {
      "cell_type": "markdown",
      "metadata": {
        "id": "H9wADwK78DCz"
      },
      "source": [
        "# Proyek Analisis Data: Bike-Sharing-Dataset\n",
        "- **Nama:** Viviana Purba\n",
        "- **Email:** 22082010152@student.upnjatim.ac.id\n",
        "- **ID Dicoding:** Viviana Purba"
      ]
    },
    {
      "cell_type": "markdown",
      "metadata": {
        "id": "eE0raob58DC0"
      },
      "source": [
        "## Menentukan Pertanyaan Bisnis"
      ]
    },
    {
      "cell_type": "markdown",
      "metadata": {
        "id": "GmQeQ5YF8DC0"
      },
      "source": [
        "- Pertanyaan 1 : Bagaimana tren rental sepeda pada tahun 2011-2012?\n",
        "- Pertanyaan 2 : Bagaimana total sepeda yang dirental berubah sepanjang hari dalam seminggu?\n",
        "- Pertanyaan 3 : Apakah ada perbedaan dalam perilaku penggunaan rental sepeda antara antara hari libur dan hari biasa?\n",
        "- Pertanyaan 4 : Bagaimana perbedaan musim dan jam harian mempengaruhi total rental sepeda?\n",
        "- Pertanyaan 5 : Bagaimana suhu mempengaruhi banyaknya sepeda yang dirental?\n"
      ]
    },
    {
      "cell_type": "markdown",
      "metadata": {
        "id": "H-z4QGlO8DC1"
      },
      "source": [
        "## Import Semua Packages/Library yang Digunakan"
      ]
    },
    {
      "cell_type": "code",
      "execution_count": 71,
      "metadata": {
        "id": "7zDCKhyjGCB6"
      },
      "outputs": [],
      "source": [
        "import numpy as np\n",
        "import pandas as pd\n",
        "import matplotlib.pyplot as plt\n",
        "import seaborn as sns\n",
        "import scipy.stats as stats"
      ]
    },
    {
      "cell_type": "markdown",
      "metadata": {
        "id": "h_Sh51Xy8DC1"
      },
      "source": [
        "## Data Wrangling"
      ]
    },
    {
      "cell_type": "markdown",
      "metadata": {
        "id": "sXU2GBYu8DC1"
      },
      "source": [
        "### Gathering Data"
      ]
    },
    {
      "cell_type": "code",
      "execution_count": 72,
      "metadata": {
        "colab": {
          "base_uri": "https://localhost:8080/"
        },
        "id": "fqefittQRK3E",
        "outputId": "d8a9d134-7231-41e2-f00d-50c81fb914ac"
      },
      "outputs": [],
      "source": [
        "#from google.colab import drive\n",
        "#drive.mount('/content/drive')"
      ]
    },
    {
      "cell_type": "code",
      "execution_count": 106,
      "metadata": {
        "colab": {
          "base_uri": "https://localhost:8080/",
          "height": 206
        },
        "id": "zjCBk1BI8DC1",
        "outputId": "1022e546-db00-4749-c27d-b27711b42ea9"
      },
      "outputs": [
        {
          "data": {
            "text/html": [
              "<div>\n",
              "<style scoped>\n",
              "    .dataframe tbody tr th:only-of-type {\n",
              "        vertical-align: middle;\n",
              "    }\n",
              "\n",
              "    .dataframe tbody tr th {\n",
              "        vertical-align: top;\n",
              "    }\n",
              "\n",
              "    .dataframe thead th {\n",
              "        text-align: right;\n",
              "    }\n",
              "</style>\n",
              "<table border=\"1\" class=\"dataframe\">\n",
              "  <thead>\n",
              "    <tr style=\"text-align: right;\">\n",
              "      <th></th>\n",
              "      <th>instant</th>\n",
              "      <th>dteday</th>\n",
              "      <th>season</th>\n",
              "      <th>yr</th>\n",
              "      <th>mnth</th>\n",
              "      <th>holiday</th>\n",
              "      <th>weekday</th>\n",
              "      <th>workingday</th>\n",
              "      <th>weathersit</th>\n",
              "      <th>temp</th>\n",
              "      <th>atemp</th>\n",
              "      <th>hum</th>\n",
              "      <th>windspeed</th>\n",
              "      <th>casual</th>\n",
              "      <th>registered</th>\n",
              "      <th>cnt</th>\n",
              "    </tr>\n",
              "  </thead>\n",
              "  <tbody>\n",
              "    <tr>\n",
              "      <th>0</th>\n",
              "      <td>1</td>\n",
              "      <td>2011-01-01</td>\n",
              "      <td>1</td>\n",
              "      <td>0</td>\n",
              "      <td>1</td>\n",
              "      <td>0</td>\n",
              "      <td>6</td>\n",
              "      <td>0</td>\n",
              "      <td>2</td>\n",
              "      <td>0.344167</td>\n",
              "      <td>0.363625</td>\n",
              "      <td>0.805833</td>\n",
              "      <td>0.160446</td>\n",
              "      <td>331</td>\n",
              "      <td>654</td>\n",
              "      <td>985</td>\n",
              "    </tr>\n",
              "    <tr>\n",
              "      <th>1</th>\n",
              "      <td>2</td>\n",
              "      <td>2011-01-02</td>\n",
              "      <td>1</td>\n",
              "      <td>0</td>\n",
              "      <td>1</td>\n",
              "      <td>0</td>\n",
              "      <td>0</td>\n",
              "      <td>0</td>\n",
              "      <td>2</td>\n",
              "      <td>0.363478</td>\n",
              "      <td>0.353739</td>\n",
              "      <td>0.696087</td>\n",
              "      <td>0.248539</td>\n",
              "      <td>131</td>\n",
              "      <td>670</td>\n",
              "      <td>801</td>\n",
              "    </tr>\n",
              "    <tr>\n",
              "      <th>2</th>\n",
              "      <td>3</td>\n",
              "      <td>2011-01-03</td>\n",
              "      <td>1</td>\n",
              "      <td>0</td>\n",
              "      <td>1</td>\n",
              "      <td>0</td>\n",
              "      <td>1</td>\n",
              "      <td>1</td>\n",
              "      <td>1</td>\n",
              "      <td>0.196364</td>\n",
              "      <td>0.189405</td>\n",
              "      <td>0.437273</td>\n",
              "      <td>0.248309</td>\n",
              "      <td>120</td>\n",
              "      <td>1229</td>\n",
              "      <td>1349</td>\n",
              "    </tr>\n",
              "    <tr>\n",
              "      <th>3</th>\n",
              "      <td>4</td>\n",
              "      <td>2011-01-04</td>\n",
              "      <td>1</td>\n",
              "      <td>0</td>\n",
              "      <td>1</td>\n",
              "      <td>0</td>\n",
              "      <td>2</td>\n",
              "      <td>1</td>\n",
              "      <td>1</td>\n",
              "      <td>0.200000</td>\n",
              "      <td>0.212122</td>\n",
              "      <td>0.590435</td>\n",
              "      <td>0.160296</td>\n",
              "      <td>108</td>\n",
              "      <td>1454</td>\n",
              "      <td>1562</td>\n",
              "    </tr>\n",
              "    <tr>\n",
              "      <th>4</th>\n",
              "      <td>5</td>\n",
              "      <td>2011-01-05</td>\n",
              "      <td>1</td>\n",
              "      <td>0</td>\n",
              "      <td>1</td>\n",
              "      <td>0</td>\n",
              "      <td>3</td>\n",
              "      <td>1</td>\n",
              "      <td>1</td>\n",
              "      <td>0.226957</td>\n",
              "      <td>0.229270</td>\n",
              "      <td>0.436957</td>\n",
              "      <td>0.186900</td>\n",
              "      <td>82</td>\n",
              "      <td>1518</td>\n",
              "      <td>1600</td>\n",
              "    </tr>\n",
              "  </tbody>\n",
              "</table>\n",
              "</div>"
            ],
            "text/plain": [
              "   instant      dteday  season  yr  mnth  holiday  weekday  workingday  \\\n",
              "0        1  2011-01-01       1   0     1        0        6           0   \n",
              "1        2  2011-01-02       1   0     1        0        0           0   \n",
              "2        3  2011-01-03       1   0     1        0        1           1   \n",
              "3        4  2011-01-04       1   0     1        0        2           1   \n",
              "4        5  2011-01-05       1   0     1        0        3           1   \n",
              "\n",
              "   weathersit      temp     atemp       hum  windspeed  casual  registered  \\\n",
              "0           2  0.344167  0.363625  0.805833   0.160446     331         654   \n",
              "1           2  0.363478  0.353739  0.696087   0.248539     131         670   \n",
              "2           1  0.196364  0.189405  0.437273   0.248309     120        1229   \n",
              "3           1  0.200000  0.212122  0.590435   0.160296     108        1454   \n",
              "4           1  0.226957  0.229270  0.436957   0.186900      82        1518   \n",
              "\n",
              "    cnt  \n",
              "0   985  \n",
              "1   801  \n",
              "2  1349  \n",
              "3  1562  \n",
              "4  1600  "
            ]
          },
          "execution_count": 106,
          "metadata": {},
          "output_type": "execute_result"
        }
      ],
      "source": [
        "day_df = pd.read_csv(\"data\\day.csv\")\n",
        "day_df.head()"
      ]
    },
    {
      "cell_type": "code",
      "execution_count": 74,
      "metadata": {
        "colab": {
          "base_uri": "https://localhost:8080/",
          "height": 206
        },
        "id": "DKvZ8S9CTLRn",
        "outputId": "5f283044-3e98-433a-a269-72b186e6e964"
      },
      "outputs": [
        {
          "data": {
            "text/html": [
              "<div>\n",
              "<style scoped>\n",
              "    .dataframe tbody tr th:only-of-type {\n",
              "        vertical-align: middle;\n",
              "    }\n",
              "\n",
              "    .dataframe tbody tr th {\n",
              "        vertical-align: top;\n",
              "    }\n",
              "\n",
              "    .dataframe thead th {\n",
              "        text-align: right;\n",
              "    }\n",
              "</style>\n",
              "<table border=\"1\" class=\"dataframe\">\n",
              "  <thead>\n",
              "    <tr style=\"text-align: right;\">\n",
              "      <th></th>\n",
              "      <th>instant</th>\n",
              "      <th>dteday</th>\n",
              "      <th>season</th>\n",
              "      <th>yr</th>\n",
              "      <th>mnth</th>\n",
              "      <th>hr</th>\n",
              "      <th>holiday</th>\n",
              "      <th>weekday</th>\n",
              "      <th>workingday</th>\n",
              "      <th>weathersit</th>\n",
              "      <th>temp</th>\n",
              "      <th>atemp</th>\n",
              "      <th>hum</th>\n",
              "      <th>windspeed</th>\n",
              "      <th>casual</th>\n",
              "      <th>registered</th>\n",
              "      <th>cnt</th>\n",
              "    </tr>\n",
              "  </thead>\n",
              "  <tbody>\n",
              "    <tr>\n",
              "      <th>0</th>\n",
              "      <td>1</td>\n",
              "      <td>2011-01-01</td>\n",
              "      <td>1</td>\n",
              "      <td>0</td>\n",
              "      <td>1</td>\n",
              "      <td>0</td>\n",
              "      <td>0</td>\n",
              "      <td>6</td>\n",
              "      <td>0</td>\n",
              "      <td>1</td>\n",
              "      <td>0.24</td>\n",
              "      <td>0.2879</td>\n",
              "      <td>0.81</td>\n",
              "      <td>0.0</td>\n",
              "      <td>3</td>\n",
              "      <td>13</td>\n",
              "      <td>16</td>\n",
              "    </tr>\n",
              "    <tr>\n",
              "      <th>1</th>\n",
              "      <td>2</td>\n",
              "      <td>2011-01-01</td>\n",
              "      <td>1</td>\n",
              "      <td>0</td>\n",
              "      <td>1</td>\n",
              "      <td>1</td>\n",
              "      <td>0</td>\n",
              "      <td>6</td>\n",
              "      <td>0</td>\n",
              "      <td>1</td>\n",
              "      <td>0.22</td>\n",
              "      <td>0.2727</td>\n",
              "      <td>0.80</td>\n",
              "      <td>0.0</td>\n",
              "      <td>8</td>\n",
              "      <td>32</td>\n",
              "      <td>40</td>\n",
              "    </tr>\n",
              "    <tr>\n",
              "      <th>2</th>\n",
              "      <td>3</td>\n",
              "      <td>2011-01-01</td>\n",
              "      <td>1</td>\n",
              "      <td>0</td>\n",
              "      <td>1</td>\n",
              "      <td>2</td>\n",
              "      <td>0</td>\n",
              "      <td>6</td>\n",
              "      <td>0</td>\n",
              "      <td>1</td>\n",
              "      <td>0.22</td>\n",
              "      <td>0.2727</td>\n",
              "      <td>0.80</td>\n",
              "      <td>0.0</td>\n",
              "      <td>5</td>\n",
              "      <td>27</td>\n",
              "      <td>32</td>\n",
              "    </tr>\n",
              "    <tr>\n",
              "      <th>3</th>\n",
              "      <td>4</td>\n",
              "      <td>2011-01-01</td>\n",
              "      <td>1</td>\n",
              "      <td>0</td>\n",
              "      <td>1</td>\n",
              "      <td>3</td>\n",
              "      <td>0</td>\n",
              "      <td>6</td>\n",
              "      <td>0</td>\n",
              "      <td>1</td>\n",
              "      <td>0.24</td>\n",
              "      <td>0.2879</td>\n",
              "      <td>0.75</td>\n",
              "      <td>0.0</td>\n",
              "      <td>3</td>\n",
              "      <td>10</td>\n",
              "      <td>13</td>\n",
              "    </tr>\n",
              "    <tr>\n",
              "      <th>4</th>\n",
              "      <td>5</td>\n",
              "      <td>2011-01-01</td>\n",
              "      <td>1</td>\n",
              "      <td>0</td>\n",
              "      <td>1</td>\n",
              "      <td>4</td>\n",
              "      <td>0</td>\n",
              "      <td>6</td>\n",
              "      <td>0</td>\n",
              "      <td>1</td>\n",
              "      <td>0.24</td>\n",
              "      <td>0.2879</td>\n",
              "      <td>0.75</td>\n",
              "      <td>0.0</td>\n",
              "      <td>0</td>\n",
              "      <td>1</td>\n",
              "      <td>1</td>\n",
              "    </tr>\n",
              "  </tbody>\n",
              "</table>\n",
              "</div>"
            ],
            "text/plain": [
              "   instant      dteday  season  yr  mnth  hr  holiday  weekday  workingday  \\\n",
              "0        1  2011-01-01       1   0     1   0        0        6           0   \n",
              "1        2  2011-01-01       1   0     1   1        0        6           0   \n",
              "2        3  2011-01-01       1   0     1   2        0        6           0   \n",
              "3        4  2011-01-01       1   0     1   3        0        6           0   \n",
              "4        5  2011-01-01       1   0     1   4        0        6           0   \n",
              "\n",
              "   weathersit  temp   atemp   hum  windspeed  casual  registered  cnt  \n",
              "0           1  0.24  0.2879  0.81        0.0       3          13   16  \n",
              "1           1  0.22  0.2727  0.80        0.0       8          32   40  \n",
              "2           1  0.22  0.2727  0.80        0.0       5          27   32  \n",
              "3           1  0.24  0.2879  0.75        0.0       3          10   13  \n",
              "4           1  0.24  0.2879  0.75        0.0       0           1    1  "
            ]
          },
          "execution_count": 74,
          "metadata": {},
          "output_type": "execute_result"
        }
      ],
      "source": [
        "hour_df = pd.read_csv(\"data\\hour.csv\")\n",
        "hour_df.head()"
      ]
    },
    {
      "cell_type": "markdown",
      "metadata": {
        "id": "MMi6xGaDkbCi"
      },
      "source": [
        "**Insight:**\n",
        "- nama dan isi kolom pada kedua file hampir sama, bedanya adalah di hour.csv ada kolom \"hr\"\n",
        "- beberapa kolom perlu di-rename agar lebih mudah dipahami\n"
      ]
    },
    {
      "cell_type": "markdown",
      "metadata": {
        "id": "FHSiqaZp8DC1"
      },
      "source": [
        "### Assessing Data"
      ]
    },
    {
      "cell_type": "markdown",
      "metadata": {
        "id": "_wU5a6psg73k"
      },
      "source": [
        "### Menilai tabel day_df"
      ]
    },
    {
      "cell_type": "code",
      "execution_count": 75,
      "metadata": {
        "colab": {
          "base_uri": "https://localhost:8080/"
        },
        "id": "GtvPUYFeTf3p",
        "outputId": "54f6ad01-26cc-49a5-cf67-522c406cf738"
      },
      "outputs": [
        {
          "name": "stdout",
          "output_type": "stream",
          "text": [
            "<class 'pandas.core.frame.DataFrame'>\n",
            "RangeIndex: 731 entries, 0 to 730\n",
            "Data columns (total 16 columns):\n",
            " #   Column      Non-Null Count  Dtype  \n",
            "---  ------      --------------  -----  \n",
            " 0   instant     731 non-null    int64  \n",
            " 1   dteday      731 non-null    object \n",
            " 2   season      731 non-null    int64  \n",
            " 3   yr          731 non-null    int64  \n",
            " 4   mnth        731 non-null    int64  \n",
            " 5   holiday     731 non-null    int64  \n",
            " 6   weekday     731 non-null    int64  \n",
            " 7   workingday  731 non-null    int64  \n",
            " 8   weathersit  731 non-null    int64  \n",
            " 9   temp        731 non-null    float64\n",
            " 10  atemp       731 non-null    float64\n",
            " 11  hum         731 non-null    float64\n",
            " 12  windspeed   731 non-null    float64\n",
            " 13  casual      731 non-null    int64  \n",
            " 14  registered  731 non-null    int64  \n",
            " 15  cnt         731 non-null    int64  \n",
            "dtypes: float64(4), int64(11), object(1)\n",
            "memory usage: 91.5+ KB\n"
          ]
        }
      ],
      "source": [
        "day_df.info()"
      ]
    },
    {
      "cell_type": "markdown",
      "metadata": {
        "id": "z3Y1ibhFmRLQ"
      },
      "source": [
        "\n",
        "\n",
        "*   Tipe data 'dteday' seharusnya datetime\n",
        "*   Tipe data 'season', 'yr', 'mnth', 'holiday', 'weekday', 'workingday', dan 'weathersit' seharusnya categorical\n",
        "\n",
        "\n",
        "\n",
        "\n",
        "\n"
      ]
    },
    {
      "cell_type": "code",
      "execution_count": 76,
      "metadata": {
        "colab": {
          "base_uri": "https://localhost:8080/"
        },
        "id": "6A_RMDvCTs2F",
        "outputId": "ed4ecb47-5269-4f2b-a73a-4821f02ebdcf"
      },
      "outputs": [
        {
          "name": "stdout",
          "output_type": "stream",
          "text": [
            "Jumlah duplikasi tabel day_df:  0\n"
          ]
        }
      ],
      "source": [
        "# Cek Duplikasi\n",
        "print(\"Jumlah duplikasi tabel day_df: \", day_df.duplicated().sum())"
      ]
    },
    {
      "cell_type": "code",
      "execution_count": 77,
      "metadata": {
        "colab": {
          "base_uri": "https://localhost:8080/",
          "height": 300
        },
        "id": "Z921Jo_3T0Fo",
        "outputId": "1796bd5e-11f9-4bf3-971c-723c97c2c82d"
      },
      "outputs": [
        {
          "data": {
            "text/html": [
              "<div>\n",
              "<style scoped>\n",
              "    .dataframe tbody tr th:only-of-type {\n",
              "        vertical-align: middle;\n",
              "    }\n",
              "\n",
              "    .dataframe tbody tr th {\n",
              "        vertical-align: top;\n",
              "    }\n",
              "\n",
              "    .dataframe thead th {\n",
              "        text-align: right;\n",
              "    }\n",
              "</style>\n",
              "<table border=\"1\" class=\"dataframe\">\n",
              "  <thead>\n",
              "    <tr style=\"text-align: right;\">\n",
              "      <th></th>\n",
              "      <th>instant</th>\n",
              "      <th>season</th>\n",
              "      <th>yr</th>\n",
              "      <th>mnth</th>\n",
              "      <th>holiday</th>\n",
              "      <th>weekday</th>\n",
              "      <th>workingday</th>\n",
              "      <th>weathersit</th>\n",
              "      <th>temp</th>\n",
              "      <th>atemp</th>\n",
              "      <th>hum</th>\n",
              "      <th>windspeed</th>\n",
              "      <th>casual</th>\n",
              "      <th>registered</th>\n",
              "      <th>cnt</th>\n",
              "    </tr>\n",
              "  </thead>\n",
              "  <tbody>\n",
              "    <tr>\n",
              "      <th>count</th>\n",
              "      <td>731.000000</td>\n",
              "      <td>731.000000</td>\n",
              "      <td>731.000000</td>\n",
              "      <td>731.000000</td>\n",
              "      <td>731.000000</td>\n",
              "      <td>731.000000</td>\n",
              "      <td>731.000000</td>\n",
              "      <td>731.000000</td>\n",
              "      <td>731.000000</td>\n",
              "      <td>731.000000</td>\n",
              "      <td>731.000000</td>\n",
              "      <td>731.000000</td>\n",
              "      <td>731.000000</td>\n",
              "      <td>731.000000</td>\n",
              "      <td>731.000000</td>\n",
              "    </tr>\n",
              "    <tr>\n",
              "      <th>mean</th>\n",
              "      <td>366.000000</td>\n",
              "      <td>2.496580</td>\n",
              "      <td>0.500684</td>\n",
              "      <td>6.519836</td>\n",
              "      <td>0.028728</td>\n",
              "      <td>2.997264</td>\n",
              "      <td>0.683995</td>\n",
              "      <td>1.395349</td>\n",
              "      <td>0.495385</td>\n",
              "      <td>0.474354</td>\n",
              "      <td>0.627894</td>\n",
              "      <td>0.190486</td>\n",
              "      <td>848.176471</td>\n",
              "      <td>3656.172367</td>\n",
              "      <td>4504.348837</td>\n",
              "    </tr>\n",
              "    <tr>\n",
              "      <th>std</th>\n",
              "      <td>211.165812</td>\n",
              "      <td>1.110807</td>\n",
              "      <td>0.500342</td>\n",
              "      <td>3.451913</td>\n",
              "      <td>0.167155</td>\n",
              "      <td>2.004787</td>\n",
              "      <td>0.465233</td>\n",
              "      <td>0.544894</td>\n",
              "      <td>0.183051</td>\n",
              "      <td>0.162961</td>\n",
              "      <td>0.142429</td>\n",
              "      <td>0.077498</td>\n",
              "      <td>686.622488</td>\n",
              "      <td>1560.256377</td>\n",
              "      <td>1937.211452</td>\n",
              "    </tr>\n",
              "    <tr>\n",
              "      <th>min</th>\n",
              "      <td>1.000000</td>\n",
              "      <td>1.000000</td>\n",
              "      <td>0.000000</td>\n",
              "      <td>1.000000</td>\n",
              "      <td>0.000000</td>\n",
              "      <td>0.000000</td>\n",
              "      <td>0.000000</td>\n",
              "      <td>1.000000</td>\n",
              "      <td>0.059130</td>\n",
              "      <td>0.079070</td>\n",
              "      <td>0.000000</td>\n",
              "      <td>0.022392</td>\n",
              "      <td>2.000000</td>\n",
              "      <td>20.000000</td>\n",
              "      <td>22.000000</td>\n",
              "    </tr>\n",
              "    <tr>\n",
              "      <th>25%</th>\n",
              "      <td>183.500000</td>\n",
              "      <td>2.000000</td>\n",
              "      <td>0.000000</td>\n",
              "      <td>4.000000</td>\n",
              "      <td>0.000000</td>\n",
              "      <td>1.000000</td>\n",
              "      <td>0.000000</td>\n",
              "      <td>1.000000</td>\n",
              "      <td>0.337083</td>\n",
              "      <td>0.337842</td>\n",
              "      <td>0.520000</td>\n",
              "      <td>0.134950</td>\n",
              "      <td>315.500000</td>\n",
              "      <td>2497.000000</td>\n",
              "      <td>3152.000000</td>\n",
              "    </tr>\n",
              "    <tr>\n",
              "      <th>50%</th>\n",
              "      <td>366.000000</td>\n",
              "      <td>3.000000</td>\n",
              "      <td>1.000000</td>\n",
              "      <td>7.000000</td>\n",
              "      <td>0.000000</td>\n",
              "      <td>3.000000</td>\n",
              "      <td>1.000000</td>\n",
              "      <td>1.000000</td>\n",
              "      <td>0.498333</td>\n",
              "      <td>0.486733</td>\n",
              "      <td>0.626667</td>\n",
              "      <td>0.180975</td>\n",
              "      <td>713.000000</td>\n",
              "      <td>3662.000000</td>\n",
              "      <td>4548.000000</td>\n",
              "    </tr>\n",
              "    <tr>\n",
              "      <th>75%</th>\n",
              "      <td>548.500000</td>\n",
              "      <td>3.000000</td>\n",
              "      <td>1.000000</td>\n",
              "      <td>10.000000</td>\n",
              "      <td>0.000000</td>\n",
              "      <td>5.000000</td>\n",
              "      <td>1.000000</td>\n",
              "      <td>2.000000</td>\n",
              "      <td>0.655417</td>\n",
              "      <td>0.608602</td>\n",
              "      <td>0.730209</td>\n",
              "      <td>0.233214</td>\n",
              "      <td>1096.000000</td>\n",
              "      <td>4776.500000</td>\n",
              "      <td>5956.000000</td>\n",
              "    </tr>\n",
              "    <tr>\n",
              "      <th>max</th>\n",
              "      <td>731.000000</td>\n",
              "      <td>4.000000</td>\n",
              "      <td>1.000000</td>\n",
              "      <td>12.000000</td>\n",
              "      <td>1.000000</td>\n",
              "      <td>6.000000</td>\n",
              "      <td>1.000000</td>\n",
              "      <td>3.000000</td>\n",
              "      <td>0.861667</td>\n",
              "      <td>0.840896</td>\n",
              "      <td>0.972500</td>\n",
              "      <td>0.507463</td>\n",
              "      <td>3410.000000</td>\n",
              "      <td>6946.000000</td>\n",
              "      <td>8714.000000</td>\n",
              "    </tr>\n",
              "  </tbody>\n",
              "</table>\n",
              "</div>"
            ],
            "text/plain": [
              "          instant      season          yr        mnth     holiday     weekday  \\\n",
              "count  731.000000  731.000000  731.000000  731.000000  731.000000  731.000000   \n",
              "mean   366.000000    2.496580    0.500684    6.519836    0.028728    2.997264   \n",
              "std    211.165812    1.110807    0.500342    3.451913    0.167155    2.004787   \n",
              "min      1.000000    1.000000    0.000000    1.000000    0.000000    0.000000   \n",
              "25%    183.500000    2.000000    0.000000    4.000000    0.000000    1.000000   \n",
              "50%    366.000000    3.000000    1.000000    7.000000    0.000000    3.000000   \n",
              "75%    548.500000    3.000000    1.000000   10.000000    0.000000    5.000000   \n",
              "max    731.000000    4.000000    1.000000   12.000000    1.000000    6.000000   \n",
              "\n",
              "       workingday  weathersit        temp       atemp         hum   windspeed  \\\n",
              "count  731.000000  731.000000  731.000000  731.000000  731.000000  731.000000   \n",
              "mean     0.683995    1.395349    0.495385    0.474354    0.627894    0.190486   \n",
              "std      0.465233    0.544894    0.183051    0.162961    0.142429    0.077498   \n",
              "min      0.000000    1.000000    0.059130    0.079070    0.000000    0.022392   \n",
              "25%      0.000000    1.000000    0.337083    0.337842    0.520000    0.134950   \n",
              "50%      1.000000    1.000000    0.498333    0.486733    0.626667    0.180975   \n",
              "75%      1.000000    2.000000    0.655417    0.608602    0.730209    0.233214   \n",
              "max      1.000000    3.000000    0.861667    0.840896    0.972500    0.507463   \n",
              "\n",
              "            casual   registered          cnt  \n",
              "count   731.000000   731.000000   731.000000  \n",
              "mean    848.176471  3656.172367  4504.348837  \n",
              "std     686.622488  1560.256377  1937.211452  \n",
              "min       2.000000    20.000000    22.000000  \n",
              "25%     315.500000  2497.000000  3152.000000  \n",
              "50%     713.000000  3662.000000  4548.000000  \n",
              "75%    1096.000000  4776.500000  5956.000000  \n",
              "max    3410.000000  6946.000000  8714.000000  "
            ]
          },
          "execution_count": 77,
          "metadata": {},
          "output_type": "execute_result"
        }
      ],
      "source": [
        "# Cek Statistik Deskriptif\n",
        "day_df.describe()"
      ]
    },
    {
      "cell_type": "code",
      "execution_count": 78,
      "metadata": {
        "colab": {
          "base_uri": "https://localhost:8080/"
        },
        "id": "10UtOt9KK9Mr",
        "outputId": "65711e9d-3190-4118-e888-f2bb405935e7"
      },
      "outputs": [
        {
          "name": "stdout",
          "output_type": "stream",
          "text": [
            "Outliers in temp: 0\n",
            "Outliers in atemp: 0\n",
            "Outliers in hum: 2\n",
            "Outliers in windspeed: 2\n",
            "Outliers in casual: 8\n",
            "Outliers in registered: 0\n",
            "Outliers in cnt: 0\n"
          ]
        }
      ],
      "source": [
        "# cek outlier\n",
        "numeric_cols = [\"temp\", \"atemp\", \"hum\", \"windspeed\", \"casual\", \"registered\", \"cnt\"]\n",
        "for col in numeric_cols:\n",
        "    z_scores = np.abs(stats.zscore(day_df[col]))\n",
        "    outliers = z_scores > 3\n",
        "    print(f\"Outliers in {col}: {outliers.sum()}\")"
      ]
    },
    {
      "cell_type": "code",
      "execution_count": 79,
      "metadata": {
        "colab": {
          "base_uri": "https://localhost:8080/",
          "height": 501
        },
        "id": "Z_o_ORy3Lmk_",
        "outputId": "34153845-4e2c-480d-e9dd-b123f67f7c48"
      },
      "outputs": [
        {
          "data": {
            "text/plain": [
              "<Axes: xlabel='casual'>"
            ]
          },
          "execution_count": 79,
          "metadata": {},
          "output_type": "execute_result"
        },
        {
          "data": {
            "image/png": "[encoded data removed]",
            "text/plain": [
              "<Figure size 640x480 with 1 Axes>"
            ]
          },
          "metadata": {},
          "output_type": "display_data"
        }
      ],
      "source": [
        "# melihat outlier dengan visualisasi\n",
        "sns.boxplot(x=day_df['casual'])"
      ]
    },
    {
      "cell_type": "markdown",
      "metadata": {
        "id": "5sfT_bfPLGht"
      },
      "source": [
        "\n",
        "\n",
        "*   Outliers tidak banyak, tidak terlalu berpengaruh pada hasil\n",
        "\n"
      ]
    },
    {
      "cell_type": "markdown",
      "metadata": {
        "id": "UEfygWUChNMb"
      },
      "source": [
        "### Menilai tabel hour_df"
      ]
    },
    {
      "cell_type": "code",
      "execution_count": 80,
      "metadata": {
        "colab": {
          "base_uri": "https://localhost:8080/"
        },
        "id": "ax-3tEjc9Cj1",
        "outputId": "8f40a944-82a9-4453-d8eb-6ca36e919ea0"
      },
      "outputs": [
        {
          "name": "stdout",
          "output_type": "stream",
          "text": [
            "<class 'pandas.core.frame.DataFrame'>\n",
            "RangeIndex: 17379 entries, 0 to 17378\n",
            "Data columns (total 17 columns):\n",
            " #   Column      Non-Null Count  Dtype  \n",
            "---  ------      --------------  -----  \n",
            " 0   instant     17379 non-null  int64  \n",
            " 1   dteday      17379 non-null  object \n",
            " 2   season      17379 non-null  int64  \n",
            " 3   yr          17379 non-null  int64  \n",
            " 4   mnth        17379 non-null  int64  \n",
            " 5   hr          17379 non-null  int64  \n",
            " 6   holiday     17379 non-null  int64  \n",
            " 7   weekday     17379 non-null  int64  \n",
            " 8   workingday  17379 non-null  int64  \n",
            " 9   weathersit  17379 non-null  int64  \n",
            " 10  temp        17379 non-null  float64\n",
            " 11  atemp       17379 non-null  float64\n",
            " 12  hum         17379 non-null  float64\n",
            " 13  windspeed   17379 non-null  float64\n",
            " 14  casual      17379 non-null  int64  \n",
            " 15  registered  17379 non-null  int64  \n",
            " 16  cnt         17379 non-null  int64  \n",
            "dtypes: float64(4), int64(12), object(1)\n",
            "memory usage: 2.3+ MB\n"
          ]
        }
      ],
      "source": [
        "hour_df.info()"
      ]
    },
    {
      "cell_type": "markdown",
      "metadata": {
        "id": "T6jGDhjhp5TZ"
      },
      "source": [
        "*   Tipe data dteday seharusnya datetime\n",
        "*   Tipe data 'season', 'yr', 'mnth', 'he', 'holiday', 'weekday', 'workingday', dan 'weathersit' seharusnya categorical\n",
        "\n",
        "\n",
        "\n",
        "\n"
      ]
    },
    {
      "cell_type": "code",
      "execution_count": 81,
      "metadata": {
        "colab": {
          "base_uri": "https://localhost:8080/"
        },
        "id": "kyQgt3F7gUn2",
        "outputId": "53acf727-4050-43a9-acae-97f0059e3a92"
      },
      "outputs": [
        {
          "name": "stdout",
          "output_type": "stream",
          "text": [
            "Jumlah duplikasi tabel hour_df:  0\n"
          ]
        }
      ],
      "source": [
        "# cek duplikasi\n",
        "print(\"Jumlah duplikasi tabel hour_df: \", hour_df.duplicated().sum())"
      ]
    },
    {
      "cell_type": "code",
      "execution_count": 82,
      "metadata": {
        "colab": {
          "base_uri": "https://localhost:8080/",
          "height": 0
        },
        "id": "kUKhGIchgg1r",
        "outputId": "4b05e977-f13d-4b44-d571-610d88deb77b"
      },
      "outputs": [
        {
          "data": {
            "text/html": [
              "<div>\n",
              "<style scoped>\n",
              "    .dataframe tbody tr th:only-of-type {\n",
              "        vertical-align: middle;\n",
              "    }\n",
              "\n",
              "    .dataframe tbody tr th {\n",
              "        vertical-align: top;\n",
              "    }\n",
              "\n",
              "    .dataframe thead th {\n",
              "        text-align: right;\n",
              "    }\n",
              "</style>\n",
              "<table border=\"1\" class=\"dataframe\">\n",
              "  <thead>\n",
              "    <tr style=\"text-align: right;\">\n",
              "      <th></th>\n",
              "      <th>instant</th>\n",
              "      <th>season</th>\n",
              "      <th>yr</th>\n",
              "      <th>mnth</th>\n",
              "      <th>hr</th>\n",
              "      <th>holiday</th>\n",
              "      <th>weekday</th>\n",
              "      <th>workingday</th>\n",
              "      <th>weathersit</th>\n",
              "      <th>temp</th>\n",
              "      <th>atemp</th>\n",
              "      <th>hum</th>\n",
              "      <th>windspeed</th>\n",
              "      <th>casual</th>\n",
              "      <th>registered</th>\n",
              "      <th>cnt</th>\n",
              "    </tr>\n",
              "  </thead>\n",
              "  <tbody>\n",
              "    <tr>\n",
              "      <th>count</th>\n",
              "      <td>17379.0000</td>\n",
              "      <td>17379.000000</td>\n",
              "      <td>17379.000000</td>\n",
              "      <td>17379.000000</td>\n",
              "      <td>17379.000000</td>\n",
              "      <td>17379.000000</td>\n",
              "      <td>17379.000000</td>\n",
              "      <td>17379.000000</td>\n",
              "      <td>17379.000000</td>\n",
              "      <td>17379.000000</td>\n",
              "      <td>17379.000000</td>\n",
              "      <td>17379.000000</td>\n",
              "      <td>17379.000000</td>\n",
              "      <td>17379.000000</td>\n",
              "      <td>17379.000000</td>\n",
              "      <td>17379.000000</td>\n",
              "    </tr>\n",
              "    <tr>\n",
              "      <th>mean</th>\n",
              "      <td>8690.0000</td>\n",
              "      <td>2.501640</td>\n",
              "      <td>0.502561</td>\n",
              "      <td>6.537775</td>\n",
              "      <td>11.546752</td>\n",
              "      <td>0.028770</td>\n",
              "      <td>3.003683</td>\n",
              "      <td>0.682721</td>\n",
              "      <td>1.425283</td>\n",
              "      <td>0.496987</td>\n",
              "      <td>0.475775</td>\n",
              "      <td>0.627229</td>\n",
              "      <td>0.190098</td>\n",
              "      <td>35.676218</td>\n",
              "      <td>153.786869</td>\n",
              "      <td>189.463088</td>\n",
              "    </tr>\n",
              "    <tr>\n",
              "      <th>std</th>\n",
              "      <td>5017.0295</td>\n",
              "      <td>1.106918</td>\n",
              "      <td>0.500008</td>\n",
              "      <td>3.438776</td>\n",
              "      <td>6.914405</td>\n",
              "      <td>0.167165</td>\n",
              "      <td>2.005771</td>\n",
              "      <td>0.465431</td>\n",
              "      <td>0.639357</td>\n",
              "      <td>0.192556</td>\n",
              "      <td>0.171850</td>\n",
              "      <td>0.192930</td>\n",
              "      <td>0.122340</td>\n",
              "      <td>49.305030</td>\n",
              "      <td>151.357286</td>\n",
              "      <td>181.387599</td>\n",
              "    </tr>\n",
              "    <tr>\n",
              "      <th>min</th>\n",
              "      <td>1.0000</td>\n",
              "      <td>1.000000</td>\n",
              "      <td>0.000000</td>\n",
              "      <td>1.000000</td>\n",
              "      <td>0.000000</td>\n",
              "      <td>0.000000</td>\n",
              "      <td>0.000000</td>\n",
              "      <td>0.000000</td>\n",
              "      <td>1.000000</td>\n",
              "      <td>0.020000</td>\n",
              "      <td>0.000000</td>\n",
              "      <td>0.000000</td>\n",
              "      <td>0.000000</td>\n",
              "      <td>0.000000</td>\n",
              "      <td>0.000000</td>\n",
              "      <td>1.000000</td>\n",
              "    </tr>\n",
              "    <tr>\n",
              "      <th>25%</th>\n",
              "      <td>4345.5000</td>\n",
              "      <td>2.000000</td>\n",
              "      <td>0.000000</td>\n",
              "      <td>4.000000</td>\n",
              "      <td>6.000000</td>\n",
              "      <td>0.000000</td>\n",
              "      <td>1.000000</td>\n",
              "      <td>0.000000</td>\n",
              "      <td>1.000000</td>\n",
              "      <td>0.340000</td>\n",
              "      <td>0.333300</td>\n",
              "      <td>0.480000</td>\n",
              "      <td>0.104500</td>\n",
              "      <td>4.000000</td>\n",
              "      <td>34.000000</td>\n",
              "      <td>40.000000</td>\n",
              "    </tr>\n",
              "    <tr>\n",
              "      <th>50%</th>\n",
              "      <td>8690.0000</td>\n",
              "      <td>3.000000</td>\n",
              "      <td>1.000000</td>\n",
              "      <td>7.000000</td>\n",
              "      <td>12.000000</td>\n",
              "      <td>0.000000</td>\n",
              "      <td>3.000000</td>\n",
              "      <td>1.000000</td>\n",
              "      <td>1.000000</td>\n",
              "      <td>0.500000</td>\n",
              "      <td>0.484800</td>\n",
              "      <td>0.630000</td>\n",
              "      <td>0.194000</td>\n",
              "      <td>17.000000</td>\n",
              "      <td>115.000000</td>\n",
              "      <td>142.000000</td>\n",
              "    </tr>\n",
              "    <tr>\n",
              "      <th>75%</th>\n",
              "      <td>13034.5000</td>\n",
              "      <td>3.000000</td>\n",
              "      <td>1.000000</td>\n",
              "      <td>10.000000</td>\n",
              "      <td>18.000000</td>\n",
              "      <td>0.000000</td>\n",
              "      <td>5.000000</td>\n",
              "      <td>1.000000</td>\n",
              "      <td>2.000000</td>\n",
              "      <td>0.660000</td>\n",
              "      <td>0.621200</td>\n",
              "      <td>0.780000</td>\n",
              "      <td>0.253700</td>\n",
              "      <td>48.000000</td>\n",
              "      <td>220.000000</td>\n",
              "      <td>281.000000</td>\n",
              "    </tr>\n",
              "    <tr>\n",
              "      <th>max</th>\n",
              "      <td>17379.0000</td>\n",
              "      <td>4.000000</td>\n",
              "      <td>1.000000</td>\n",
              "      <td>12.000000</td>\n",
              "      <td>23.000000</td>\n",
              "      <td>1.000000</td>\n",
              "      <td>6.000000</td>\n",
              "      <td>1.000000</td>\n",
              "      <td>4.000000</td>\n",
              "      <td>1.000000</td>\n",
              "      <td>1.000000</td>\n",
              "      <td>1.000000</td>\n",
              "      <td>0.850700</td>\n",
              "      <td>367.000000</td>\n",
              "      <td>886.000000</td>\n",
              "      <td>977.000000</td>\n",
              "    </tr>\n",
              "  </tbody>\n",
              "</table>\n",
              "</div>"
            ],
            "text/plain": [
              "          instant        season            yr          mnth            hr  \\\n",
              "count  17379.0000  17379.000000  17379.000000  17379.000000  17379.000000   \n",
              "mean    8690.0000      2.501640      0.502561      6.537775     11.546752   \n",
              "std     5017.0295      1.106918      0.500008      3.438776      6.914405   \n",
              "min        1.0000      1.000000      0.000000      1.000000      0.000000   \n",
              "25%     4345.5000      2.000000      0.000000      4.000000      6.000000   \n",
              "50%     8690.0000      3.000000      1.000000      7.000000     12.000000   \n",
              "75%    13034.5000      3.000000      1.000000     10.000000     18.000000   \n",
              "max    17379.0000      4.000000      1.000000     12.000000     23.000000   \n",
              "\n",
              "            holiday       weekday    workingday    weathersit          temp  \\\n",
              "count  17379.000000  17379.000000  17379.000000  17379.000000  17379.000000   \n",
              "mean       0.028770      3.003683      0.682721      1.425283      0.496987   \n",
              "std        0.167165      2.005771      0.465431      0.639357      0.192556   \n",
              "min        0.000000      0.000000      0.000000      1.000000      0.020000   \n",
              "25%        0.000000      1.000000      0.000000      1.000000      0.340000   \n",
              "50%        0.000000      3.000000      1.000000      1.000000      0.500000   \n",
              "75%        0.000000      5.000000      1.000000      2.000000      0.660000   \n",
              "max        1.000000      6.000000      1.000000      4.000000      1.000000   \n",
              "\n",
              "              atemp           hum     windspeed        casual    registered  \\\n",
              "count  17379.000000  17379.000000  17379.000000  17379.000000  17379.000000   \n",
              "mean       0.475775      0.627229      0.190098     35.676218    153.786869   \n",
              "std        0.171850      0.192930      0.122340     49.305030    151.357286   \n",
              "min        0.000000      0.000000      0.000000      0.000000      0.000000   \n",
              "25%        0.333300      0.480000      0.104500      4.000000     34.000000   \n",
              "50%        0.484800      0.630000      0.194000     17.000000    115.000000   \n",
              "75%        0.621200      0.780000      0.253700     48.000000    220.000000   \n",
              "max        1.000000      1.000000      0.850700    367.000000    886.000000   \n",
              "\n",
              "                cnt  \n",
              "count  17379.000000  \n",
              "mean     189.463088  \n",
              "std      181.387599  \n",
              "min        1.000000  \n",
              "25%       40.000000  \n",
              "50%      142.000000  \n",
              "75%      281.000000  \n",
              "max      977.000000  "
            ]
          },
          "execution_count": 82,
          "metadata": {},
          "output_type": "execute_result"
        }
      ],
      "source": [
        "# cek statistik deskriptif\n",
        "hour_df.describe()"
      ]
    },
    {
      "cell_type": "code",
      "execution_count": 83,
      "metadata": {
        "colab": {
          "base_uri": "https://localhost:8080/"
        },
        "id": "guGuz6asMGcH",
        "outputId": "9347d87e-c48a-45fb-c17b-f24de800b9c3"
      },
      "outputs": [
        {
          "name": "stdout",
          "output_type": "stream",
          "text": [
            "Outliers in temp: 0\n",
            "Outliers in atemp: 1\n",
            "Outliers in hum: 22\n",
            "Outliers in windspeed: 107\n",
            "Outliers in casual: 467\n",
            "Outliers in registered: 371\n",
            "Outliers in cnt: 244\n"
          ]
        }
      ],
      "source": [
        "# cek outlier\n",
        "numeric_cols = [\"temp\", \"atemp\", \"hum\", \"windspeed\", \"casual\", \"registered\", \"cnt\"]\n",
        "for col in numeric_cols:\n",
        "    z_scores = np.abs(stats.zscore(hour_df[col]))\n",
        "    outliers = z_scores > 3\n",
        "    print(f\"Outliers in {col}: {outliers.sum()}\")"
      ]
    },
    {
      "cell_type": "code",
      "execution_count": 84,
      "metadata": {
        "colab": {
          "base_uri": "https://localhost:8080/",
          "height": 501
        },
        "id": "W00HFD_MNBGJ",
        "outputId": "e8ad196b-e242-4f71-9a94-1a2a8313072c"
      },
      "outputs": [
        {
          "data": {
            "text/plain": [
              "<Axes: xlabel='casual'>"
            ]
          },
          "execution_count": 84,
          "metadata": {},
          "output_type": "execute_result"
        },
        {
          "data": {
            "image/png": "[encoded data removed]",
            "text/plain": [
              "<Figure size 640x480 with 1 Axes>"
            ]
          },
          "metadata": {},
          "output_type": "display_data"
        }
      ],
      "source": [
        "# melihat outlier dengan visualisasi\n",
        "sns.boxplot(x=hour_df['casual'])"
      ]
    },
    {
      "cell_type": "markdown",
      "metadata": {
        "id": "VkUitXiONKkd"
      },
      "source": [
        "\n",
        "\n",
        "*   Outlier termasuk sedikit dari total data keseluruhan dan nilai tiap outlier masih berdekatan sehingga tidak terlalu berpengaruh\n",
        "\n"
      ]
    },
    {
      "cell_type": "markdown",
      "metadata": {
        "id": "7dtxhAPrkhPL"
      },
      "source": [
        "**Insight:**\n",
        "- tidak ditemukan missing value pada kedua data\n",
        "- tidak ditemukan duplikasi pada data\n",
        "- ada sedikit outlier, tetapi tidak terlalu berpengaruh"
      ]
    },
    {
      "cell_type": "markdown",
      "metadata": {
        "id": "EhN5R4hr8DC1"
      },
      "source": [
        "## Cleaning Data"
      ]
    },
    {
      "cell_type": "markdown",
      "metadata": {
        "id": "w4iY3cTWz2ID"
      },
      "source": [
        "### Menghapus tabel yang tidak relevan"
      ]
    },
    {
      "cell_type": "code",
      "execution_count": 85,
      "metadata": {
        "id": "wHcXcAUCiH_J"
      },
      "outputs": [],
      "source": [
        "day_df= day_df.drop(columns=['weathersit', 'windspeed', 'atemp', 'hum', \"workingday\"])\n",
        "hour_df= hour_df.drop(columns=['weathersit', 'windspeed', 'atemp', 'hum', \"workingday\"])"
      ]
    },
    {
      "cell_type": "markdown",
      "metadata": {
        "id": "lRMH6MsPOTRo"
      },
      "source": [
        "### Melakukan rename kolom di tabel day_df dan hour_df"
      ]
    },
    {
      "cell_type": "code",
      "execution_count": 86,
      "metadata": {
        "id": "4KHnUltx0vrI"
      },
      "outputs": [],
      "source": [
        "both_df = [day_df, hour_df]\n",
        "for df in both_df:\n",
        "    df.rename(columns={ 'instant':'rec_id',\n",
        "                        'dteday':'date',\n",
        "                        'yr':'year',\n",
        "                        'mnth':'month',\n",
        "                        'cnt':'total_count'\n",
        "                       }, inplace=True)\n",
        "    if 'hr' in df.columns:\n",
        "        df.rename(columns={'hr':'hour'}, inplace=True)"
      ]
    },
    {
      "cell_type": "markdown",
      "metadata": {
        "id": "DXGvPw01OqjE"
      },
      "source": [
        "### Mengubah tipe data di tabel day_df dan hour_df"
      ]
    },
    {
      "cell_type": "code",
      "execution_count": 87,
      "metadata": {
        "id": "rcmn_XvJQ4Ez"
      },
      "outputs": [],
      "source": [
        "both_df = [day_df, hour_df]\n",
        "for df in both_df:\n",
        "    categorical_columns = [\"season\", \"year\", \"month\", \"holiday\", \"weekday\"]\n",
        "    datetime_column = [\"date\"]\n",
        "    if 'hr' in df.columns:\n",
        "        categorical_columns.append(\"hr\")\n",
        "    df[categorical_columns] = df[categorical_columns].astype(\"category\")\n",
        "    df[datetime_column] = df[datetime_column].apply(pd.to_datetime)"
      ]
    },
    {
      "cell_type": "code",
      "execution_count": 88,
      "metadata": {
        "colab": {
          "base_uri": "https://localhost:8080/"
        },
        "id": "MBwGN0p6jv49",
        "outputId": "c1e1bc9e-501f-466c-f26c-da0c82b09fc7"
      },
      "outputs": [
        {
          "name": "stdout",
          "output_type": "stream",
          "text": [
            "<class 'pandas.core.frame.DataFrame'>\n",
            "RangeIndex: 731 entries, 0 to 730\n",
            "Data columns (total 11 columns):\n",
            " #   Column       Non-Null Count  Dtype         \n",
            "---  ------       --------------  -----         \n",
            " 0   rec_id       731 non-null    int64         \n",
            " 1   date         731 non-null    datetime64[ns]\n",
            " 2   season       731 non-null    category      \n",
            " 3   year         731 non-null    category      \n",
            " 4   month        731 non-null    category      \n",
            " 5   holiday      731 non-null    category      \n",
            " 6   weekday      731 non-null    category      \n",
            " 7   temp         731 non-null    float64       \n",
            " 8   casual       731 non-null    int64         \n",
            " 9   registered   731 non-null    int64         \n",
            " 10  total_count  731 non-null    int64         \n",
            "dtypes: category(5), datetime64[ns](1), float64(1), int64(4)\n",
            "memory usage: 39.1 KB\n"
          ]
        }
      ],
      "source": [
        "day_df.info()"
      ]
    },
    {
      "cell_type": "code",
      "execution_count": 89,
      "metadata": {
        "colab": {
          "base_uri": "https://localhost:8080/"
        },
        "id": "TNAT7PrZVlwm",
        "outputId": "c7d43f71-93db-4631-a3bd-5b4a6a4b52b2"
      },
      "outputs": [
        {
          "name": "stdout",
          "output_type": "stream",
          "text": [
            "<class 'pandas.core.frame.DataFrame'>\n",
            "RangeIndex: 17379 entries, 0 to 17378\n",
            "Data columns (total 12 columns):\n",
            " #   Column       Non-Null Count  Dtype         \n",
            "---  ------       --------------  -----         \n",
            " 0   rec_id       17379 non-null  int64         \n",
            " 1   date         17379 non-null  datetime64[ns]\n",
            " 2   season       17379 non-null  category      \n",
            " 3   year         17379 non-null  category      \n",
            " 4   month        17379 non-null  category      \n",
            " 5   hour         17379 non-null  int64         \n",
            " 6   holiday      17379 non-null  category      \n",
            " 7   weekday      17379 non-null  category      \n",
            " 8   temp         17379 non-null  float64       \n",
            " 9   casual       17379 non-null  int64         \n",
            " 10  registered   17379 non-null  int64         \n",
            " 11  total_count  17379 non-null  int64         \n",
            "dtypes: category(5), datetime64[ns](1), float64(1), int64(5)\n",
            "memory usage: 1.0 MB\n"
          ]
        }
      ],
      "source": [
        "hour_df.info()"
      ]
    },
    {
      "cell_type": "markdown",
      "metadata": {
        "id": "Q_5ejIqckiSP"
      },
      "source": [
        "**Insight:**\n",
        "- Tidak dilakukan penghapusan karena tidak missing value, maupun duplikasi\n",
        "- Tipe data sudah diperbaharui melalui cleaning\n"
      ]
    },
    {
      "cell_type": "markdown",
      "metadata": {
        "id": "gp-Y6wU38DC1"
      },
      "source": [
        "## Exploratory Data Analysis (EDA)"
      ]
    },
    {
      "cell_type": "code",
      "execution_count": 90,
      "metadata": {
        "colab": {
          "base_uri": "https://localhost:8080/"
        },
        "collapsed": true,
        "id": "_LsBbaStajZv",
        "outputId": "105d9abe-e534-4ddd-e0c3-95655a12de8e"
      },
      "outputs": [
        {
          "name": "stderr",
          "output_type": "stream",
          "text": [
            "C:\\Users\\Viviana Purba\\AppData\\Local\\Temp\\ipykernel_18320\\3971430154.py:4: FutureWarning: The behavior of Series.replace (and DataFrame.replace) with CategoricalDtype is deprecated. In a future version, replace will only be used for cases that preserve the categories. To change the categories, use ser.cat.rename_categories instead.\n",
            "  df['season'] = df['season'].replace((1,2,3,4), ('Spring','Summer','Fall','Winter'))\n",
            "C:\\Users\\Viviana Purba\\AppData\\Local\\Temp\\ipykernel_18320\\3971430154.py:5: FutureWarning: The behavior of Series.replace (and DataFrame.replace) with CategoricalDtype is deprecated. In a future version, replace will only be used for cases that preserve the categories. To change the categories, use ser.cat.rename_categories instead.\n",
            "  df['year'] = df['year'].replace((0,1), ('2011','2012'))\n",
            "C:\\Users\\Viviana Purba\\AppData\\Local\\Temp\\ipykernel_18320\\3971430154.py:6: FutureWarning: The behavior of Series.replace (and DataFrame.replace) with CategoricalDtype is deprecated. In a future version, replace will only be used for cases that preserve the categories. To change the categories, use ser.cat.rename_categories instead.\n",
            "  df['weekday'] = df['weekday'].replace((0,1,2,3,4,5,6), ('Sunday','Monday','Tuesday','Wednesday','Thursday','Friday','Saturday'))\n",
            "C:\\Users\\Viviana Purba\\AppData\\Local\\Temp\\ipykernel_18320\\3971430154.py:4: FutureWarning: The behavior of Series.replace (and DataFrame.replace) with CategoricalDtype is deprecated. In a future version, replace will only be used for cases that preserve the categories. To change the categories, use ser.cat.rename_categories instead.\n",
            "  df['season'] = df['season'].replace((1,2,3,4), ('Spring','Summer','Fall','Winter'))\n",
            "C:\\Users\\Viviana Purba\\AppData\\Local\\Temp\\ipykernel_18320\\3971430154.py:5: FutureWarning: The behavior of Series.replace (and DataFrame.replace) with CategoricalDtype is deprecated. In a future version, replace will only be used for cases that preserve the categories. To change the categories, use ser.cat.rename_categories instead.\n",
            "  df['year'] = df['year'].replace((0,1), ('2011','2012'))\n",
            "C:\\Users\\Viviana Purba\\AppData\\Local\\Temp\\ipykernel_18320\\3971430154.py:6: FutureWarning: The behavior of Series.replace (and DataFrame.replace) with CategoricalDtype is deprecated. In a future version, replace will only be used for cases that preserve the categories. To change the categories, use ser.cat.rename_categories instead.\n",
            "  df['weekday'] = df['weekday'].replace((0,1,2,3,4,5,6), ('Sunday','Monday','Tuesday','Wednesday','Thursday','Friday','Saturday'))\n"
          ]
        }
      ],
      "source": [
        "# Konversi nilai numerik menjadi string\n",
        "both_df = [day_df, hour_df]\n",
        "for i, df in enumerate(both_df):\n",
        "    df['season'] = df['season'].replace((1,2,3,4), ('Spring','Summer','Fall','Winter'))\n",
        "    df['year'] = df['year'].replace((0,1), ('2011','2012'))\n",
        "    df['weekday'] = df['weekday'].replace((0,1,2,3,4,5,6), ('Sunday','Monday','Tuesday','Wednesday','Thursday','Friday','Saturday'))\n",
        "    both_df[i] = df"
      ]
    },
    {
      "cell_type": "markdown",
      "metadata": {
        "id": "MW7WF2kr8DC1"
      },
      "source": [
        "### Explore day_df"
      ]
    },
    {
      "cell_type": "code",
      "execution_count": 91,
      "metadata": {
        "colab": {
          "base_uri": "https://localhost:8080/",
          "height": 206
        },
        "id": "e9CQCZjk8DC2",
        "outputId": "836aceb0-c4d9-4058-9829-e5f242cdca21"
      },
      "outputs": [
        {
          "data": {
            "text/html": [
              "<div>\n",
              "<style scoped>\n",
              "    .dataframe tbody tr th:only-of-type {\n",
              "        vertical-align: middle;\n",
              "    }\n",
              "\n",
              "    .dataframe tbody tr th {\n",
              "        vertical-align: top;\n",
              "    }\n",
              "\n",
              "    .dataframe thead th {\n",
              "        text-align: right;\n",
              "    }\n",
              "</style>\n",
              "<table border=\"1\" class=\"dataframe\">\n",
              "  <thead>\n",
              "    <tr style=\"text-align: right;\">\n",
              "      <th></th>\n",
              "      <th>rec_id</th>\n",
              "      <th>date</th>\n",
              "      <th>season</th>\n",
              "      <th>year</th>\n",
              "      <th>month</th>\n",
              "      <th>holiday</th>\n",
              "      <th>weekday</th>\n",
              "      <th>temp</th>\n",
              "      <th>casual</th>\n",
              "      <th>registered</th>\n",
              "      <th>total_count</th>\n",
              "    </tr>\n",
              "  </thead>\n",
              "  <tbody>\n",
              "    <tr>\n",
              "      <th>461</th>\n",
              "      <td>462</td>\n",
              "      <td>2012-04-06</td>\n",
              "      <td>Summer</td>\n",
              "      <td>2012</td>\n",
              "      <td>4</td>\n",
              "      <td>0</td>\n",
              "      <td>Friday</td>\n",
              "      <td>0.403333</td>\n",
              "      <td>1807</td>\n",
              "      <td>4653</td>\n",
              "      <td>6460</td>\n",
              "    </tr>\n",
              "    <tr>\n",
              "      <th>84</th>\n",
              "      <td>85</td>\n",
              "      <td>2011-03-26</td>\n",
              "      <td>Summer</td>\n",
              "      <td>2011</td>\n",
              "      <td>3</td>\n",
              "      <td>0</td>\n",
              "      <td>Saturday</td>\n",
              "      <td>0.265833</td>\n",
              "      <td>981</td>\n",
              "      <td>1515</td>\n",
              "      <td>2496</td>\n",
              "    </tr>\n",
              "    <tr>\n",
              "      <th>179</th>\n",
              "      <td>180</td>\n",
              "      <td>2011-06-29</td>\n",
              "      <td>Fall</td>\n",
              "      <td>2011</td>\n",
              "      <td>6</td>\n",
              "      <td>0</td>\n",
              "      <td>Wednesday</td>\n",
              "      <td>0.728333</td>\n",
              "      <td>848</td>\n",
              "      <td>4377</td>\n",
              "      <td>5225</td>\n",
              "    </tr>\n",
              "    <tr>\n",
              "      <th>131</th>\n",
              "      <td>132</td>\n",
              "      <td>2011-05-12</td>\n",
              "      <td>Summer</td>\n",
              "      <td>2011</td>\n",
              "      <td>5</td>\n",
              "      <td>0</td>\n",
              "      <td>Thursday</td>\n",
              "      <td>0.535000</td>\n",
              "      <td>695</td>\n",
              "      <td>4169</td>\n",
              "      <td>4864</td>\n",
              "    </tr>\n",
              "    <tr>\n",
              "      <th>219</th>\n",
              "      <td>220</td>\n",
              "      <td>2011-08-08</td>\n",
              "      <td>Fall</td>\n",
              "      <td>2011</td>\n",
              "      <td>8</td>\n",
              "      <td>0</td>\n",
              "      <td>Monday</td>\n",
              "      <td>0.765000</td>\n",
              "      <td>846</td>\n",
              "      <td>3480</td>\n",
              "      <td>4326</td>\n",
              "    </tr>\n",
              "  </tbody>\n",
              "</table>\n",
              "</div>"
            ],
            "text/plain": [
              "     rec_id       date  season  year month holiday    weekday      temp  \\\n",
              "461     462 2012-04-06  Summer  2012     4       0     Friday  0.403333   \n",
              "84       85 2011-03-26  Summer  2011     3       0   Saturday  0.265833   \n",
              "179     180 2011-06-29    Fall  2011     6       0  Wednesday  0.728333   \n",
              "131     132 2011-05-12  Summer  2011     5       0   Thursday  0.535000   \n",
              "219     220 2011-08-08    Fall  2011     8       0     Monday  0.765000   \n",
              "\n",
              "     casual  registered  total_count  \n",
              "461    1807        4653         6460  \n",
              "84      981        1515         2496  \n",
              "179     848        4377         5225  \n",
              "131     695        4169         4864  \n",
              "219     846        3480         4326  "
            ]
          },
          "execution_count": 91,
          "metadata": {},
          "output_type": "execute_result"
        }
      ],
      "source": [
        "day_df.sample(5)"
      ]
    },
    {
      "cell_type": "code",
      "execution_count": 92,
      "metadata": {
        "colab": {
          "base_uri": "https://localhost:8080/",
          "height": 389
        },
        "id": "0zcsQo2lZOYL",
        "outputId": "1c2408b5-eea5-4a6f-e43e-fc0d51a44bf6"
      },
      "outputs": [
        {
          "name": "stderr",
          "output_type": "stream",
          "text": [
            "C:\\Users\\Viviana Purba\\AppData\\Local\\Temp\\ipykernel_18320\\633841835.py:2: FutureWarning: The default of observed=False is deprecated and will be changed to True in a future version of pandas. Pass observed=False to retain current behavior or observed=True to adopt the future default and silence this warning.\n",
            "  total_count_by_day = day_df.groupby(\"weekday\")[\"total_count\"].sum().sort_values(ascending=False)\n"
          ]
        },
        {
          "data": {
            "text/plain": [
              "weekday\n",
              "Friday       487790\n",
              "Thursday     485395\n",
              "Saturday     477807\n",
              "Wednesday    473048\n",
              "Tuesday      469109\n",
              "Monday       455503\n",
              "Sunday       444027\n",
              "Name: total_count, dtype: int64"
            ]
          },
          "execution_count": 92,
          "metadata": {},
          "output_type": "execute_result"
        }
      ],
      "source": [
        "# rental total_count terbanyak berdasarkan hari\n",
        "total_count_by_day = day_df.groupby(\"weekday\")[\"total_count\"].sum().sort_values(ascending=False)\n",
        "total_count_by_day"
      ]
    },
    {
      "cell_type": "markdown",
      "metadata": {
        "id": "Uu3XNrDmnJ56"
      },
      "source": [
        "### Eksplore hour_df"
      ]
    },
    {
      "cell_type": "code",
      "execution_count": 93,
      "metadata": {
        "colab": {
          "base_uri": "https://localhost:8080/",
          "height": 206
        },
        "id": "SNHmgoXWof-T",
        "outputId": "a4cfabfd-9db7-4e6b-a434-129c0fbdd8a7"
      },
      "outputs": [
        {
          "data": {
            "text/html": [
              "<div>\n",
              "<style scoped>\n",
              "    .dataframe tbody tr th:only-of-type {\n",
              "        vertical-align: middle;\n",
              "    }\n",
              "\n",
              "    .dataframe tbody tr th {\n",
              "        vertical-align: top;\n",
              "    }\n",
              "\n",
              "    .dataframe thead th {\n",
              "        text-align: right;\n",
              "    }\n",
              "</style>\n",
              "<table border=\"1\" class=\"dataframe\">\n",
              "  <thead>\n",
              "    <tr style=\"text-align: right;\">\n",
              "      <th></th>\n",
              "      <th>rec_id</th>\n",
              "      <th>date</th>\n",
              "      <th>season</th>\n",
              "      <th>year</th>\n",
              "      <th>month</th>\n",
              "      <th>hour</th>\n",
              "      <th>holiday</th>\n",
              "      <th>weekday</th>\n",
              "      <th>temp</th>\n",
              "      <th>casual</th>\n",
              "      <th>registered</th>\n",
              "      <th>total_count</th>\n",
              "    </tr>\n",
              "  </thead>\n",
              "  <tbody>\n",
              "    <tr>\n",
              "      <th>5726</th>\n",
              "      <td>5727</td>\n",
              "      <td>2011-09-01</td>\n",
              "      <td>Fall</td>\n",
              "      <td>2011</td>\n",
              "      <td>9</td>\n",
              "      <td>1</td>\n",
              "      <td>0</td>\n",
              "      <td>Thursday</td>\n",
              "      <td>0.60</td>\n",
              "      <td>7</td>\n",
              "      <td>14</td>\n",
              "      <td>21</td>\n",
              "    </tr>\n",
              "    <tr>\n",
              "      <th>9504</th>\n",
              "      <td>9505</td>\n",
              "      <td>2012-02-05</td>\n",
              "      <td>Spring</td>\n",
              "      <td>2012</td>\n",
              "      <td>2</td>\n",
              "      <td>22</td>\n",
              "      <td>0</td>\n",
              "      <td>Sunday</td>\n",
              "      <td>0.26</td>\n",
              "      <td>9</td>\n",
              "      <td>182</td>\n",
              "      <td>191</td>\n",
              "    </tr>\n",
              "    <tr>\n",
              "      <th>15497</th>\n",
              "      <td>15498</td>\n",
              "      <td>2012-10-12</td>\n",
              "      <td>Winter</td>\n",
              "      <td>2012</td>\n",
              "      <td>10</td>\n",
              "      <td>22</td>\n",
              "      <td>0</td>\n",
              "      <td>Friday</td>\n",
              "      <td>0.40</td>\n",
              "      <td>17</td>\n",
              "      <td>143</td>\n",
              "      <td>160</td>\n",
              "    </tr>\n",
              "    <tr>\n",
              "      <th>10975</th>\n",
              "      <td>10976</td>\n",
              "      <td>2012-04-07</td>\n",
              "      <td>Summer</td>\n",
              "      <td>2012</td>\n",
              "      <td>4</td>\n",
              "      <td>11</td>\n",
              "      <td>0</td>\n",
              "      <td>Saturday</td>\n",
              "      <td>0.44</td>\n",
              "      <td>251</td>\n",
              "      <td>244</td>\n",
              "      <td>495</td>\n",
              "    </tr>\n",
              "    <tr>\n",
              "      <th>74</th>\n",
              "      <td>75</td>\n",
              "      <td>2011-01-04</td>\n",
              "      <td>Spring</td>\n",
              "      <td>2011</td>\n",
              "      <td>1</td>\n",
              "      <td>6</td>\n",
              "      <td>0</td>\n",
              "      <td>Tuesday</td>\n",
              "      <td>0.12</td>\n",
              "      <td>0</td>\n",
              "      <td>36</td>\n",
              "      <td>36</td>\n",
              "    </tr>\n",
              "  </tbody>\n",
              "</table>\n",
              "</div>"
            ],
            "text/plain": [
              "       rec_id       date  season  year month  hour holiday   weekday  temp  \\\n",
              "5726     5727 2011-09-01    Fall  2011     9     1       0  Thursday  0.60   \n",
              "9504     9505 2012-02-05  Spring  2012     2    22       0    Sunday  0.26   \n",
              "15497   15498 2012-10-12  Winter  2012    10    22       0    Friday  0.40   \n",
              "10975   10976 2012-04-07  Summer  2012     4    11       0  Saturday  0.44   \n",
              "74         75 2011-01-04  Spring  2011     1     6       0   Tuesday  0.12   \n",
              "\n",
              "       casual  registered  total_count  \n",
              "5726        7          14           21  \n",
              "9504        9         182          191  \n",
              "15497      17         143          160  \n",
              "10975     251         244          495  \n",
              "74          0          36           36  "
            ]
          },
          "execution_count": 93,
          "metadata": {},
          "output_type": "execute_result"
        }
      ],
      "source": [
        "hour_df.sample(5)"
      ]
    },
    {
      "cell_type": "code",
      "execution_count": 94,
      "metadata": {
        "colab": {
          "base_uri": "https://localhost:8080/",
          "height": 272
        },
        "id": "AAbGoeM8qe0o",
        "outputId": "fc0020a6-664c-42cc-85e7-3c6c62ee73f0"
      },
      "outputs": [
        {
          "data": {
            "text/plain": [
              "hour\n",
              "4     4428\n",
              "3     8174\n",
              "5    14261\n",
              "2    16352\n",
              "1    24164\n",
              "Name: total_count, dtype: int64"
            ]
          },
          "execution_count": 94,
          "metadata": {},
          "output_type": "execute_result"
        }
      ],
      "source": [
        "# rental total_count paling sedikit berdasarkan jam\n",
        "hour_avg_total_counts = hour_df.groupby('hour')['total_count'].sum().sort_values(ascending=True)\n",
        "hour_avg_total_counts.head()"
      ]
    },
    {
      "cell_type": "markdown",
      "metadata": {
        "id": "13tUICeAqfPq"
      },
      "source": [
        "### Eksplore day_df dan hour_df"
      ]
    },
    {
      "cell_type": "code",
      "execution_count": 95,
      "metadata": {
        "colab": {
          "base_uri": "https://localhost:8080/",
          "height": 206
        },
        "id": "lz4If-1Nug5S",
        "outputId": "212b9f16-70df-4107-eeec-43adea0e101b"
      },
      "outputs": [
        {
          "data": {
            "text/html": [
              "<div>\n",
              "<style scoped>\n",
              "    .dataframe tbody tr th:only-of-type {\n",
              "        vertical-align: middle;\n",
              "    }\n",
              "\n",
              "    .dataframe tbody tr th {\n",
              "        vertical-align: top;\n",
              "    }\n",
              "\n",
              "    .dataframe thead th {\n",
              "        text-align: right;\n",
              "    }\n",
              "</style>\n",
              "<table border=\"1\" class=\"dataframe\">\n",
              "  <thead>\n",
              "    <tr style=\"text-align: right;\">\n",
              "      <th></th>\n",
              "      <th>rec_id</th>\n",
              "      <th>date</th>\n",
              "      <th>season</th>\n",
              "      <th>year</th>\n",
              "      <th>month</th>\n",
              "      <th>hour</th>\n",
              "      <th>holiday</th>\n",
              "      <th>weekday</th>\n",
              "      <th>temp</th>\n",
              "      <th>casual</th>\n",
              "      <th>registered</th>\n",
              "      <th>total_count</th>\n",
              "    </tr>\n",
              "  </thead>\n",
              "  <tbody>\n",
              "    <tr>\n",
              "      <th>2551</th>\n",
              "      <td>2552</td>\n",
              "      <td>2011-04-21</td>\n",
              "      <td>Summer</td>\n",
              "      <td>2011</td>\n",
              "      <td>4</td>\n",
              "      <td>5</td>\n",
              "      <td>0</td>\n",
              "      <td>Thursday</td>\n",
              "      <td>0.42</td>\n",
              "      <td>0</td>\n",
              "      <td>14</td>\n",
              "      <td>14</td>\n",
              "    </tr>\n",
              "    <tr>\n",
              "      <th>7518</th>\n",
              "      <td>7519</td>\n",
              "      <td>2011-11-14</td>\n",
              "      <td>Winter</td>\n",
              "      <td>2011</td>\n",
              "      <td>11</td>\n",
              "      <td>21</td>\n",
              "      <td>0</td>\n",
              "      <td>Monday</td>\n",
              "      <td>0.60</td>\n",
              "      <td>37</td>\n",
              "      <td>176</td>\n",
              "      <td>213</td>\n",
              "    </tr>\n",
              "    <tr>\n",
              "      <th>16364</th>\n",
              "      <td>16365</td>\n",
              "      <td>2012-11-19</td>\n",
              "      <td>Winter</td>\n",
              "      <td>2012</td>\n",
              "      <td>11</td>\n",
              "      <td>14</td>\n",
              "      <td>0</td>\n",
              "      <td>Monday</td>\n",
              "      <td>0.44</td>\n",
              "      <td>47</td>\n",
              "      <td>170</td>\n",
              "      <td>217</td>\n",
              "    </tr>\n",
              "    <tr>\n",
              "      <th>11272</th>\n",
              "      <td>11273</td>\n",
              "      <td>2012-04-19</td>\n",
              "      <td>Summer</td>\n",
              "      <td>2012</td>\n",
              "      <td>4</td>\n",
              "      <td>21</td>\n",
              "      <td>0</td>\n",
              "      <td>Thursday</td>\n",
              "      <td>0.52</td>\n",
              "      <td>27</td>\n",
              "      <td>240</td>\n",
              "      <td>267</td>\n",
              "    </tr>\n",
              "    <tr>\n",
              "      <th>8261</th>\n",
              "      <td>8262</td>\n",
              "      <td>2011-12-15</td>\n",
              "      <td>Winter</td>\n",
              "      <td>2011</td>\n",
              "      <td>12</td>\n",
              "      <td>21</td>\n",
              "      <td>0</td>\n",
              "      <td>Thursday</td>\n",
              "      <td>0.50</td>\n",
              "      <td>10</td>\n",
              "      <td>145</td>\n",
              "      <td>155</td>\n",
              "    </tr>\n",
              "  </tbody>\n",
              "</table>\n",
              "</div>"
            ],
            "text/plain": [
              "       rec_id       date  season  year month  hour holiday   weekday  temp  \\\n",
              "2551     2552 2011-04-21  Summer  2011     4     5       0  Thursday  0.42   \n",
              "7518     7519 2011-11-14  Winter  2011    11    21       0    Monday  0.60   \n",
              "16364   16365 2012-11-19  Winter  2012    11    14       0    Monday  0.44   \n",
              "11272   11273 2012-04-19  Summer  2012     4    21       0  Thursday  0.52   \n",
              "8261     8262 2011-12-15  Winter  2011    12    21       0  Thursday  0.50   \n",
              "\n",
              "       casual  registered  total_count  \n",
              "2551        0          14           14  \n",
              "7518       37         176          213  \n",
              "16364      47         170          217  \n",
              "11272      27         240          267  \n",
              "8261       10         145          155  "
            ]
          },
          "execution_count": 95,
          "metadata": {},
          "output_type": "execute_result"
        }
      ],
      "source": [
        "# merge tabel hour_df ke day_df\n",
        "all_df = pd.merge(hour_df, day_df[['rec_id']], on='rec_id', how='left')\n",
        "all_df.sample(5)"
      ]
    },
    {
      "cell_type": "code",
      "execution_count": 96,
      "metadata": {
        "colab": {
          "base_uri": "https://localhost:8080/"
        },
        "id": "jF8y6wHchWRu",
        "outputId": "47fbea37-f195-4bd0-ca4d-d142d913e493"
      },
      "outputs": [
        {
          "name": "stdout",
          "output_type": "stream",
          "text": [
            "<class 'pandas.core.frame.DataFrame'>\n",
            "RangeIndex: 17379 entries, 0 to 17378\n",
            "Data columns (total 12 columns):\n",
            " #   Column       Non-Null Count  Dtype         \n",
            "---  ------       --------------  -----         \n",
            " 0   rec_id       17379 non-null  int64         \n",
            " 1   date         17379 non-null  datetime64[ns]\n",
            " 2   season       17379 non-null  category      \n",
            " 3   year         17379 non-null  category      \n",
            " 4   month        17379 non-null  category      \n",
            " 5   hour         17379 non-null  int64         \n",
            " 6   holiday      17379 non-null  category      \n",
            " 7   weekday      17379 non-null  category      \n",
            " 8   temp         17379 non-null  float64       \n",
            " 9   casual       17379 non-null  int64         \n",
            " 10  registered   17379 non-null  int64         \n",
            " 11  total_count  17379 non-null  int64         \n",
            "dtypes: category(5), datetime64[ns](1), float64(1), int64(5)\n",
            "memory usage: 1.0 MB\n"
          ]
        }
      ],
      "source": [
        "all_df.info()"
      ]
    },
    {
      "cell_type": "code",
      "execution_count": 97,
      "metadata": {
        "colab": {
          "base_uri": "https://localhost:8080/",
          "height": 261
        },
        "id": "KV52j31ru4xM",
        "outputId": "423c77cd-c4b1-4c94-e0ac-b2b899fa0419"
      },
      "outputs": [
        {
          "name": "stderr",
          "output_type": "stream",
          "text": [
            "C:\\Users\\Viviana Purba\\AppData\\Local\\Temp\\ipykernel_18320\\1587160637.py:2: FutureWarning: The default of observed=False is deprecated and will be changed to True in a future version of pandas. Pass observed=False to retain current behavior or observed=True to adopt the future default and silence this warning.\n",
            "  total_count_by_year = all_df.groupby(['year', 'month'])['total_count'].sum().reset_index()\n"
          ]
        },
        {
          "data": {
            "text/html": [
              "<div>\n",
              "<style scoped>\n",
              "    .dataframe tbody tr th:only-of-type {\n",
              "        vertical-align: middle;\n",
              "    }\n",
              "\n",
              "    .dataframe tbody tr th {\n",
              "        vertical-align: top;\n",
              "    }\n",
              "\n",
              "    .dataframe thead th {\n",
              "        text-align: right;\n",
              "    }\n",
              "</style>\n",
              "<table border=\"1\" class=\"dataframe\">\n",
              "  <thead>\n",
              "    <tr style=\"text-align: right;\">\n",
              "      <th></th>\n",
              "      <th>year</th>\n",
              "      <th>month</th>\n",
              "      <th>total_count</th>\n",
              "    </tr>\n",
              "  </thead>\n",
              "  <tbody>\n",
              "    <tr>\n",
              "      <th>0</th>\n",
              "      <td>2011</td>\n",
              "      <td>1</td>\n",
              "      <td>38189</td>\n",
              "    </tr>\n",
              "    <tr>\n",
              "      <th>18</th>\n",
              "      <td>2012</td>\n",
              "      <td>7</td>\n",
              "      <td>203607</td>\n",
              "    </tr>\n",
              "    <tr>\n",
              "      <th>10</th>\n",
              "      <td>2011</td>\n",
              "      <td>11</td>\n",
              "      <td>102167</td>\n",
              "    </tr>\n",
              "    <tr>\n",
              "      <th>19</th>\n",
              "      <td>2012</td>\n",
              "      <td>8</td>\n",
              "      <td>214503</td>\n",
              "    </tr>\n",
              "    <tr>\n",
              "      <th>14</th>\n",
              "      <td>2012</td>\n",
              "      <td>3</td>\n",
              "      <td>164875</td>\n",
              "    </tr>\n",
              "  </tbody>\n",
              "</table>\n",
              "</div>"
            ],
            "text/plain": [
              "    year month  total_count\n",
              "0   2011     1        38189\n",
              "18  2012     7       203607\n",
              "10  2011    11       102167\n",
              "19  2012     8       214503\n",
              "14  2012     3       164875"
            ]
          },
          "execution_count": 97,
          "metadata": {},
          "output_type": "execute_result"
        }
      ],
      "source": [
        "# total_count berdasarkan bulan dan tahun\n",
        "total_count_by_year = all_df.groupby(['year', 'month'])['total_count'].sum().reset_index()\n",
        "total_count_by_year.sample(5)"
      ]
    },
    {
      "cell_type": "code",
      "execution_count": 98,
      "metadata": {
        "colab": {
          "base_uri": "https://localhost:8080/",
          "height": 233
        },
        "id": "hx-V7V-hNybo",
        "outputId": "0e85d1ad-1cff-4246-8cfa-21b950c675ef"
      },
      "outputs": [
        {
          "name": "stderr",
          "output_type": "stream",
          "text": [
            "C:\\Users\\Viviana Purba\\AppData\\Local\\Temp\\ipykernel_18320\\2669323274.py:2: FutureWarning: The default of observed=False is deprecated and will be changed to True in a future version of pandas. Pass observed=False to retain current behavior or observed=True to adopt the future default and silence this warning.\n",
            "  total_count_by_holiday = all_df.groupby('holiday')['total_count'].sum().sort_values(ascending=False)\n"
          ]
        },
        {
          "data": {
            "text/plain": [
              "holiday\n",
              "0    3214244\n",
              "1      78435\n",
              "Name: total_count, dtype: int64"
            ]
          },
          "execution_count": 98,
          "metadata": {},
          "output_type": "execute_result"
        }
      ],
      "source": [
        "# total_count berdasarkan hari libur/tidak\n",
        "total_count_by_holiday = all_df.groupby('holiday')['total_count'].sum().sort_values(ascending=False)\n",
        "total_count_by_holiday"
      ]
    },
    {
      "cell_type": "code",
      "execution_count": 99,
      "metadata": {
        "colab": {
          "base_uri": "https://localhost:8080/",
          "height": 295
        },
        "id": "rr61ZYftwdaW",
        "outputId": "36b79192-4ec0-4c89-ea83-48091e35be97"
      },
      "outputs": [
        {
          "name": "stderr",
          "output_type": "stream",
          "text": [
            "C:\\Users\\Viviana Purba\\AppData\\Local\\Temp\\ipykernel_18320\\2686225769.py:2: FutureWarning: The default of observed=False is deprecated and will be changed to True in a future version of pandas. Pass observed=False to retain current behavior or observed=True to adopt the future default and silence this warning.\n",
            "  season_by_all = all_df.groupby(by=\"season\").rec_id.nunique().sort_values(ascending=False).head()\n"
          ]
        },
        {
          "data": {
            "text/plain": [
              "season\n",
              "Fall      4496\n",
              "Summer    4409\n",
              "Spring    4242\n",
              "Winter    4232\n",
              "Name: rec_id, dtype: int64"
            ]
          },
          "execution_count": 99,
          "metadata": {},
          "output_type": "execute_result"
        }
      ],
      "source": [
        "# total_count berdasarkan musim\n",
        "season_by_all = all_df.groupby(by=\"season\").rec_id.nunique().sort_values(ascending=False).head()\n",
        "season_by_all"
      ]
    },
    {
      "cell_type": "markdown",
      "metadata": {
        "id": "th_Lzl2Fkj9O"
      },
      "source": [
        "**Insight:**\n",
        "- Jumlah total sepeda yang dirental paling banyak ada di hari Jumat dengan total 487790 sepeda, paling sedikit hari minggu total 444027 sepeda\n",
        "- Jumlah total sepeda yang dirental paling banyak ada di musim dengan total 487790 sepeda, paling sedikit hari minggu total 444027 sepeda\n",
        "- Jumlah total sepeda yang dirental paling dikit terjadi di jam 4 sebanyak 4428.\n",
        "- Sepeda paling banyak dirental ketika hari biasa atau ketika tidak libur"
      ]
    },
    {
      "cell_type": "code",
      "execution_count": 100,
      "metadata": {
        "id": "RkAcClo0hvDj"
      },
      "outputs": [],
      "source": [
        "# Menyimpan data cleaned\n",
        "all_df.to_csv(\"bikesharing_clean.csv\", index=False)"
      ]
    },
    {
      "cell_type": "markdown",
      "metadata": {
        "id": "zsyZjqak8DC2"
      },
      "source": [
        "## Visualization & Explanatory Analysis"
      ]
    },
    {
      "cell_type": "markdown",
      "metadata": {
        "id": "HZxOiQ6n8DC2"
      },
      "source": [
        "### Pertanyaan 1: Bagaimana tren rental sepeda dalam 2011-2012?"
      ]
    },
    {
      "cell_type": "code",
      "execution_count": 101,
      "metadata": {
        "colab": {
          "base_uri": "https://localhost:8080/",
          "height": 653
        },
        "id": "0xlMD8lkpgLA",
        "outputId": "79aea6ba-587a-4e3c-d467-0a546fd1b3de"
      },
      "outputs": [
        {
          "data": {
            "image/png": "[encoded data removed]",
            "text/plain": [
              "<Figure size 1000x600 with 1 Axes>"
            ]
          },
          "metadata": {},
          "output_type": "display_data"
        }
      ],
      "source": [
        "plt.figure(figsize=(10, 6))\n",
        "sns.lineplot(x='month', y='total_count', hue='year', data=total_count_by_year, palette=['blue', 'orange'], markers=['o', 's'])\n",
        "plt.xlabel('Bulan')\n",
        "plt.ylabel('Jumlah Sepeda yang Dirental')\n",
        "plt.title('Tren Rental Sepeda pada Tahun 2011-2012')\n",
        "plt.legend(loc='upper right')\n",
        "plt.xticks(range(1, 13))\n",
        "plt.show()"
      ]
    },
    {
      "cell_type": "markdown",
      "metadata": {
        "id": "caKssmLfRKPB"
      },
      "source": [
        "### Pertanyaan 2 : Bagaimana total sepeda yang dirental berubah sepanjang hari dalam seminggu?"
      ]
    },
    {
      "cell_type": "code",
      "execution_count": 102,
      "metadata": {
        "colab": {
          "base_uri": "https://localhost:8080/",
          "height": 948
        },
        "id": "egEo4UZTILoA",
        "outputId": "5da06053-ada7-431b-b795-8399b5d3077c"
      },
      "outputs": [
        {
          "name": "stderr",
          "output_type": "stream",
          "text": [
            "C:\\Users\\Viviana Purba\\AppData\\Local\\Temp\\ipykernel_18320\\770835361.py:2: FutureWarning: The default of observed=False is deprecated and will be changed to True in a future version of pandas. Pass observed=False to retain current behavior or observed=True to adopt the future default and silence this warning.\n",
            "  avg_weekday = all_df.groupby('weekday')['total_count'].mean()\n",
            "C:\\Users\\Viviana Purba\\AppData\\Local\\Temp\\ipykernel_18320\\770835361.py:5: FutureWarning: \n",
            "\n",
            "Passing `palette` without assigning `hue` is deprecated and will be removed in v0.14.0. Assign the `x` variable to `hue` and set `legend=False` for the same effect.\n",
            "\n",
            "  sns.barplot(x=category, y=avg_weekday, palette=['gray' if x != max(avg_weekday) else 'orange' for x in avg_weekday])\n"
          ]
        },
        {
          "data": {
            "image/png": "[encoded data removed]",
            "text/plain": [
              "<Figure size 1000x600 with 1 Axes>"
            ]
          },
          "metadata": {},
          "output_type": "display_data"
        }
      ],
      "source": [
        "category = ['Minggu','Senin','Selasa','Rabu','Kamis','Jumat','Sabtu']\n",
        "avg_weekday = all_df.groupby('weekday')['total_count'].mean()\n",
        "\n",
        "plt.figure(figsize=(10, 6))\n",
        "sns.barplot(x=category, y=avg_weekday, palette=['gray' if x != max(avg_weekday) else 'orange' for x in avg_weekday])\n",
        "plt.xlabel('Hari')\n",
        "plt.ylabel('Total Rata-Rata Sepeda yang dirental')\n",
        "plt.title('Perubahan Total Sepeda yang Dirental dalam Seminggu')\n",
        "plt.show()"
      ]
    },
    {
      "cell_type": "markdown",
      "metadata": {
        "id": "uMNcREmRQ8ma"
      },
      "source": [
        "### Pertanyaan 3 : Apakah ada perbedaan dalam perilaku penggunaan rental sepeda antara antara hari libur dan hari biasa?"
      ]
    },
    {
      "cell_type": "code",
      "execution_count": 103,
      "metadata": {
        "colab": {
          "base_uri": "https://localhost:8080/",
          "height": 564
        },
        "id": "uDKYar1zNJZR",
        "outputId": "84c750cf-2f02-4b0d-b856-bba8ab9412af"
      },
      "outputs": [
        {
          "data": {
            "image/png": "[encoded data removed]",
            "text/plain": [
              "<Figure size 1000x600 with 1 Axes>"
            ]
          },
          "metadata": {},
          "output_type": "display_data"
        }
      ],
      "source": [
        "\n",
        "avg_holiday = df[df['holiday'] == 1]['total_count'].mean()\n",
        "avg_non_holiday = df[df['holiday'] == 0]['total_count'].mean()\n",
        "\n",
        "plt.figure(figsize=(10, 6))\n",
        "plt.bar(['Hari Libur', 'Hari Biasa'], [avg_holiday, avg_non_holiday])\n",
        "plt.xlabel('Jenis Hari')\n",
        "plt.ylabel('Rata-Rata Total Sepeda yang Dirental')\n",
        "plt.title('Perbedaan Penggunaan Rental Sepeda antara Hari Libur dan Hari Biasa')\n",
        "plt.show()"
      ]
    },
    {
      "cell_type": "markdown",
      "metadata": {
        "id": "DgHI7CiU8DC2"
      },
      "source": [
        "### Pertanyaan 4 : Bagaimana musim dan jam harian mempengaruhi total rental sepeda?"
      ]
    },
    {
      "cell_type": "code",
      "execution_count": 104,
      "metadata": {
        "colab": {
          "base_uri": "https://localhost:8080/",
          "height": 723
        },
        "id": "HXhRy2QC2l4m",
        "outputId": "eed8446d-853a-4c5d-c69e-e3d5757ebea0"
      },
      "outputs": [
        {
          "data": {
            "image/png": "[encoded data removed]",
            "text/plain": [
              "<Figure size 1200x600 with 1 Axes>"
            ]
          },
          "metadata": {},
          "output_type": "display_data"
        }
      ],
      "source": [
        "fig,ax = plt.subplots(figsize=(12, 6))\n",
        "sns.pointplot(data=all_df[['hour','total_count','season']],x='hour',y='total_count',hue='season',ax=ax, palette='Set1')\n",
        "ax.set(title=\"Total rental sepeda dalam 1 hari berdasarkan musim\")\n",
        "ax.set_xlabel('Jam')\n",
        "ax.set_ylabel('Total rental sepeda')\n",
        "ax.legend(loc='upper right')\n",
        "plt.xticks(range(0, 24))\n",
        "plt.show()"
      ]
    },
    {
      "cell_type": "markdown",
      "metadata": {
        "id": "_0-36BDLklRg"
      },
      "source": [
        "**Insight:**\n",
        "- Dilihat dari trennya, jumlah sharing-bike di 2012 meningkat daripada 2011\n",
        "- Rata-rata jumlah sepeda yang dirental hampir sama setiap harinya dalam satu minggu\n",
        "- Terdapat perbedaan rata-rata yang cukup jauh antara jumlah sepeda yang dirental hari libur dan hari biasa\n",
        "- Distribusi jam harian dari total rental sepeda paling tinggi ada di musim gugur, puncaknya di jam 18"
      ]
    },
    {
      "cell_type": "markdown",
      "metadata": {
        "id": "RjEAb9lSdvc2"
      },
      "source": [
        "## Analis Lanjutan"
      ]
    },
    {
      "cell_type": "markdown",
      "metadata": {
        "id": "myZ2TB4z5YLL"
      },
      "source": [
        "### Pertanyaan 5 : Bagaimana suhu mempengaruhi banyaknya sepeda yang dirental?"
      ]
    },
    {
      "cell_type": "code",
      "execution_count": 105,
      "metadata": {
        "colab": {
          "base_uri": "https://localhost:8080/",
          "height": 662
        },
        "id": "j1EFwCaOeBJF",
        "outputId": "117989e4-5e15-48e6-c898-d4961743cbbd"
      },
      "outputs": [
        {
          "name": "stderr",
          "output_type": "stream",
          "text": [
            "C:\\Users\\Viviana Purba\\AppData\\Local\\Temp\\ipykernel_18320\\2614475747.py:6: FutureWarning: The default of observed=False is deprecated and will be changed to True in a future version of pandas. Pass observed=False to retain current behavior or observed=True to adopt the future default and silence this warning.\n",
            "  temp_mean = all_df.groupby('temp_group')['total_count'].mean()\n"
          ]
        },
        {
          "data": {
            "image/png": "[encoded data removed]",
            "text/plain": [
              "<Figure size 1000x600 with 1 Axes>"
            ]
          },
          "metadata": {},
          "output_type": "display_data"
        }
      ],
      "source": [
        "# binning untuk melihat suhu dengan jumlah rental terbanyak\n",
        "bins = [0, 0.2, 0.4, 0.6, 0.8, 1]  #\n",
        "labels = ['(0°C-8°C)', '(8°C-16°C)', '(16°C-24°C)', '(24°C-32°C)', '(32°C-41°C)']\n",
        "\n",
        "all_df['temp_group'] = pd.cut(all_df['temp'], bins=bins, labels=labels)\n",
        "temp_mean = all_df.groupby('temp_group')['total_count'].mean()\n",
        "\n",
        "plt.figure(figsize=(10, 6))\n",
        "temp_mean.plot(kind='barh', color=[\"#FFE5B4\", \"#FFCC80\", \"#FFB74D\", \"#FF9800\", \"#E65100\"])\n",
        "plt.ylabel('Kategori Suhu')\n",
        "plt.xlabel('Rata-Rata Total Sepeda yang Dirental')\n",
        "plt.title('Rata-Rata Total Sepeda berdasarkan Suhu', fontsize=14)\n",
        "plt.tight_layout()\n",
        "plt.show()"
      ]
    },
    {
      "cell_type": "markdown",
      "metadata": {
        "id": "_WeHlCeX8DC2"
      },
      "source": [
        "## Conclusion"
      ]
    },
    {
      "cell_type": "markdown",
      "metadata": {
        "id": "ZTcyR48Y8DC2"
      },
      "source": [
        "- Conclusion pertanyaan 1 : Tren rental sepeda selama 2 tahun ini adalah meningkat di awal tahun, lalu menurun di akhir tahun. Total sepeda yang dirental tahun 2012 juga mengalami peningkatan yang signifikan dari tahun sebelumnya yaitu 2011.\n",
        "- Conclusion pertanyaan 2 : Total rata-rata sepeda yang dirental hampir sama setiap harinya dalam seminggu. Namun total tertinggi ada di hari kamis\n",
        "- Conclusion pertanyaan 3 : Berdasarkan nilai rata-ratanya, total sepeda dirental paling banyak adalah hari biasa atau ketika tidak libur.\n",
        "- Conclusion pertanyaan 4 : Total sepeda yang di rental terbanyak ada di hari musim gugur dan paling sedikit di musim semi. Dalam satu hari, puncaknya sepeda dirental terbanyak pada jam 16 dan 17, dan selanjutnya menurun\n",
        "- Conclusion pertanyaan 5 : Semakin maksimal suhunya, semakin banyak juga jumlah sepeda yang di rental, terbukti dengan total rental tertinggi adalah pada saat suhu berkisar 32-41 derajat celcius"
      ]
    }
  ],
  "metadata": {
    "colab": {
      "collapsed_sections": [
        "H-z4QGlO8DC1",
        "h_Sh51Xy8DC1",
        "sXU2GBYu8DC1",
        "_wU5a6psg73k",
        "UEfygWUChNMb",
        "EhN5R4hr8DC1",
        "w4iY3cTWz2ID",
        "lRMH6MsPOTRo",
        "DXGvPw01OqjE",
        "gp-Y6wU38DC1",
        "MW7WF2kr8DC1",
        "Uu3XNrDmnJ56",
        "13tUICeAqfPq",
        "HZxOiQ6n8DC2",
        "caKssmLfRKPB",
        "uMNcREmRQ8ma",
        "DgHI7CiU8DC2",
        "_WeHlCeX8DC2"
      ],
      "provenance": []
    },
    "kernelspec": {
      "display_name": "base",
      "language": "python",
      "name": "python3"
    },
    "language_info": {
      "codemirror_mode": {
        "name": "ipython",
        "version": 3
      },
      "file_extension": ".py",
      "mimetype": "text/x-python",
      "name": "python",
      "nbconvert_exporter": "python",
      "pygments_lexer": "ipython3",
      "version": "3.11.5"
    }
  },
  "nbformat": 4,
  "nbformat_minor": 0
}
